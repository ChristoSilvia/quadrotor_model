{
 "cells": [
  {
   "cell_type": "code",
   "execution_count": 1,
   "metadata": {
    "collapsed": true
   },
   "outputs": [],
   "source": [
    "import numpy as np\n",
    "import matplotlib.pyplot as plt\n",
    "%matplotlib inline\n",
    "from scipy.integrate import odeint"
   ]
  },
  {
   "cell_type": "code",
   "execution_count": 5,
   "metadata": {
    "collapsed": false
   },
   "outputs": [
    {
     "data": {
      "text/plain": [
       "0.0026516504294495529"
      ]
     },
     "execution_count": 5,
     "metadata": {},
     "output_type": "execute_result"
    }
   ],
   "source": [
    "0.3**2*0.25/6/np.sqrt(2)"
   ]
  },
  {
   "cell_type": "markdown",
   "metadata": {},
   "source": [
    "We will assume that we are working with a 0.25kg quadrotor, which is 0.3m long on a side.\n",
    "The moment of inertia about the axis of the propellers, therefore, $I_z$ is 0.00375 kg m^2.\n",
    "From some theorem, we know that in a planar situation, $I_x^2 + I_y^2 = I_z^2$.\n",
    "Therefore $I_x$ and $I_y$ are 0.00265 kg m^2. $g$ is 9.8"
   ]
  },
  {
   "cell_type": "markdown",
   "metadata": {},
   "source": [
    "The quadrotor dynamics (in stationary air) are as follows, from ICRAPaperQuadrotor2004:\n",
    "\n",
    "\\begin{align}\n",
    "\\ddot{x} & =\\left( \\cos \\phi \\sin \\theta \\cos \\psi+\\sin \\phi \\sin \\psi \\right) \\frac{1}{m} U_1\\\\\n",
    "\\ddot{y} & = \\left(\\cos\\phi\\sin\\theta\\sin\\psi - \\sin \\phi cos \\psi \\right) \\frac{1}{m} U_1\\\\\n",
    "\\ddot{z} & =-g + \\left( \\cos \\phi \\cos \\theta \\right) \\frac{1}{m} U_1\\\\\n",
    "\\ddot{\\phi} & = \\dot{\\theta}\\dot{\\psi} \\left(\\frac{I_y - I_z}{I_x}\\right) -\n",
    "    \\frac{J_r}{I_x} \\dot{\\theta} \\Omega + \\frac{l}{I_x} U_2 \\\\\n",
    "\\ddot{\\theta} & = \\dot{\\phi}\\dot{\\psi} \\left(\\frac{I_z - I_x}{I_y}\\right) -\n",
    "    \\frac{J_r}{I_y} \\dot{\\phi} \\Omega + \\frac{l}{I_y} U_3 \\\\\n",
    "\\ddot{\\psi} & = \\dot{\\phi}\\dot{\\theta} \\left( \\frac{I_x - I_y}{I_z} \\right) + \\frac{1}{I_z}U_4\n",
    "\\end{align}"
   ]
  },
  {
   "cell_type": "markdown",
   "metadata": {},
   "source": [
    "Note that we can replace $U_1$ by $\\frac{m g}{\\cos \\phi \\cos \\theta} + U_1^*$, so that gravity is counteracted.  Now, the equations read:"
   ]
  },
  {
   "cell_type": "markdown",
   "metadata": {},
   "source": [
    "\\begin{align}\n",
    "\\ddot{x} & =\\left( \\cos \\phi \\sin \\theta \\cos \\psi+\\sin \\phi \\sin \\psi\\right)\\frac{1}{m} U_1^*\n",
    "+g \\frac{\\cos \\phi \\sin \\theta \\cos \\psi+\\sin \\phi \\sin \\psi}{\\cos \\phi \\cos \\theta} \\\\\n",
    "\\ddot{y} & = \\left(\\cos\\phi\\sin\\theta\\sin\\psi - \\sin \\phi cos \\psi \\right) \\frac{1}{m} U_1^*\n",
    "+g\\frac{\\cos\\phi\\sin\\theta\\sin\\psi - \\sin \\phi cos \\psi}{\\cos \\phi \\cos \\theta}\\\\\n",
    "\\ddot{z} & =\\left( \\cos \\phi \\cos \\theta \\right) \\frac{1}{m} U_1^*\\\\\n",
    "\\ddot{\\phi} & = \\dot{\\theta}\\dot{\\psi} \\left(\\frac{I_y - I_z}{I_x}\\right)\n",
    "    - \\frac{J_r}{I_x} \\dot{\\theta} \\Omega + \\frac{l}{I_x} U_2 \\\\\n",
    "\\ddot{\\theta} & = \\dot{\\phi}\\dot{\\psi} \\left(\\frac{I_z - I_x}{I_y}\\right)\n",
    "    - \\frac{J_r}{I_y} \\dot{\\phi} \\Omega + \\frac{l}{I_y} U_3 \\\\\n",
    "\\ddot{\\psi} & = \\dot{\\phi}\\dot{\\theta} \\left( \\frac{I_x - I_y}{I_z} \\right) + \\frac{1}{I_z}U_4\n",
    "\\end{align}"
   ]
  },
  {
   "cell_type": "markdown",
   "metadata": {},
   "source": [
    "Suppose we assume that the quadrotor is going to be maneuvering about a stable point.\n",
    "First, we notice that the above equations contain several products of control variables and state variables.  If we assume that all of our variables are small, then we can neglect these products when we linearize our equations.  They dynamics now become:"
   ]
  },
  {
   "cell_type": "markdown",
   "metadata": {},
   "source": [
    "\\begin{align}\n",
    "\\ddot{x} & = g \\theta \\\\\n",
    "\\ddot{y} & = - g \\phi \\\\\n",
    "\\ddot{z} & = \\frac{1}{m} U_1^*\\\\\n",
    "\\ddot{\\phi} & = \\frac{l}{I_x} U_2 \\\\\n",
    "\\ddot{\\theta} & = \\frac{l}{I_y} U_3 \\\\\n",
    "\\ddot{\\psi} & = \\frac{1}{I_z} U_4\n",
    "\\end{align}"
   ]
  },
  {
   "cell_type": "markdown",
   "metadata": {},
   "source": [
    "\\begin{align}\n",
    "A & = \\left(\\begin{matrix}\n",
    "0 & 1 & 0 & 0 & 0 & 0 & 0 & 0 & 0 & 0 & 0 & 0 \\\\\n",
    "0 & 0 & 0 & 0 & 0 & 0 & g & 0 & 0 & 0 & 0 & 0 \\\\\n",
    "0 & 0 & 0 & 1 & 0 & 0 & 0 & 0 & 0 & 0 & 0 & 0 \\\\\n",
    "0 & 0 & 0 & 0 & 0 & 0 & 0 & 0 &-g & 0 & 0 & 0 \\\\\n",
    "0 & 0 & 0 & 0 & 0 & 1 & 0 & 0 & 0 & 0 & 0 & 0 \\\\\n",
    "0 & 0 & 0 & 0 & 0 & 0 & 0 & 0 & 0 & 0 & 0 & 0 \\\\\n",
    "0 & 0 & 0 & 0 & 0 & 0 & 0 & 1 & 0 & 0 & 0 & 0 \\\\\n",
    "0 & 0 & 0 & 0 & 0 & 0 & 0 & 0 & 0 & 0 & 0 & 0 \\\\\n",
    "0 & 0 & 0 & 0 & 0 & 0 & 0 & 0 & 0 & 1 & 0 & 0 \\\\\n",
    "0 & 0 & 0 & 0 & 0 & 0 & 0 & 0 & 0 & 0 & 0 & 0 \\\\\n",
    "0 & 0 & 0 & 0 & 0 & 0 & 0 & 0 & 0 & 0 & 0 & 1 \\\\\n",
    "0 & 0 & 0 & 0 & 0 & 0 & 0 & 0 & 0 & 0 & 0 & 0 \\\\\n",
    "\\end{matrix} \\right) &\n",
    "B & = \\left( \\begin{matrix}\n",
    "0 & 0 & 0 & 0 \\\\\n",
    "0 & 0 & 0 & 0 \\\\\n",
    "0 & 0 & 0 & 0 \\\\\n",
    "0 & 0 & 0 & 0 \\\\\n",
    "0 & 0 & 0 & 0 \\\\\n",
    "\\frac{1}{m} & 0 & 0 & 0 \\\\\n",
    "0 & 0 & 0 & 0 \\\\\n",
    "0 & \\frac{l}{I_x} & 0 & 0 \\\\\n",
    "0 & 0 & 0 & 0 \\\\\n",
    "0 & 0 & \\frac{l}{I_y} & 0 \\\\\n",
    "0 & 0 & 0 & 0 \\\\\n",
    "0 & 0 & 0 & \\frac{1}{I_z} \\\\\n",
    "\\end{matrix} \\right)\n",
    "\\end{align}"
   ]
  },
  {
   "cell_type": "markdown",
   "metadata": {},
   "source": [
    "As for our LQR objective matrices, let's try to minimize position and angle error equally while minimizing control all control inputs equally.\n",
    "Therefore,\n",
    "\n",
    "\\begin{align}\n",
    "Q & = I\\\\\n",
    "R & = r I\n",
    "\\end{align}"
   ]
  },
  {
   "cell_type": "markdown",
   "metadata": {},
   "source": [
    "We'll run the LQR backwards for a really long time to get an approximation for the infinite-horizon controller"
   ]
  },
  {
   "cell_type": "code",
   "execution_count": 7,
   "metadata": {
    "collapsed": true
   },
   "outputs": [],
   "source": [
    "g = 9.8  #m/sec^2\n",
    "m = 0.25 #kg\n",
    "L = 0.3 #m\n",
    "Iz = m*L**2/6 # kg m^2\n",
    "Ix = Iy = Iz/np.sqrt(2) #kg m^2"
   ]
  },
  {
   "cell_type": "code",
   "execution_count": 90,
   "metadata": {
    "collapsed": true
   },
   "outputs": [],
   "source": [
    "def get_A(g):\n",
    "    return np.array([\n",
    "    #    x     y     z     ϕ     θ     ψ   \n",
    "        [0, 1, 0, 0, 0, 0, 0, 0, 0, 0, 0, 0], # x\n",
    "        [0, 0, 0, 0, 0, 0, g, 0, 0, 0, 0, 0],\n",
    "        [0, 0, 0, 1, 0, 0, 0, 0, 0, 0, 0, 0], # y\n",
    "        [0, 0, 0, 0, 0, 0, 0, 0,-g, 0, 0, 0],\n",
    "        [0, 0, 0, 0, 0, 1, 0, 0, 0, 0, 0, 0], # z\n",
    "        [0, 0, 0, 0, 0, 0, 0, 0, 0, 0, 0, 0],\n",
    "        [0, 0, 0, 0, 0, 0, 0, 1, 0, 0, 0, 0], # ϕ\n",
    "        [0, 0, 0, 0, 0, 0, 0, 0, 0, 0, 0, 0],\n",
    "        [0, 0, 0, 0, 0, 0, 0, 0, 0, 1, 0, 0], # θ\n",
    "        [0, 0, 0, 0, 0, 0, 0, 0, 0, 0, 0, 0],\n",
    "        [0, 0, 0, 0, 0, 0, 0, 0, 0, 0, 0, 1], # ψ\n",
    "        [0, 0, 0, 0, 0, 0, 0, 0, 0, 0, 0, 0]\n",
    "    ])"
   ]
  },
  {
   "cell_type": "code",
   "execution_count": 91,
   "metadata": {
    "collapsed": true
   },
   "outputs": [],
   "source": [
    "def get_B(m, Ix, Iy, Iz):\n",
    "    return np.array([\n",
    "    #   U1 U2 U3 U4\n",
    "        [0, 0, 0, 0], # x\n",
    "        [0, 0, 0, 0],\n",
    "        [0, 0, 0, 0], # y\n",
    "        [0, 0, 0, 0],\n",
    "        [0, 0, 0, 0], # z\n",
    "      [1/m, 0, 0, 0], \n",
    "        [0, 0, 0, 0], # ϕ\n",
    "     [0, 1/Ix, 0, 0],\n",
    "        [0, 0, 0, 0], # θ\n",
    "     [0, 0, 1/Iy, 0],\n",
    "        [0, 0, 0, 0], # ψ\n",
    "     [0, 0, 0, 1/Iz]\n",
    "    ])"
   ]
  },
  {
   "cell_type": "code",
   "execution_count": 92,
   "metadata": {
    "collapsed": true
   },
   "outputs": [],
   "source": [
    "Q = np.eye(12)\n",
    "R = 0.1*np.eye(4)"
   ]
  },
  {
   "cell_type": "code",
   "execution_count": 93,
   "metadata": {
    "collapsed": true
   },
   "outputs": [],
   "source": [
    "def ricatti_backwards_deriv(Svec, t, A, B, Q, R):\n",
    "    S = np.reshape(Svec, (12,12))\n",
    "    R_transformed = np.dot(B, np.dot(np.linalg.inv(R), B.T))\n",
    "    S_quadratic_term = np.dot(S, np.dot(R_transformed, S))\n",
    "    neg_Sdot = Q - S_quadratic_term + np.dot(S,A) + np.dot(A.T, S)\n",
    "    return np.reshape(neg_Sdot, 144)"
   ]
  },
  {
   "cell_type": "code",
   "execution_count": 94,
   "metadata": {
    "collapsed": false
   },
   "outputs": [],
   "source": [
    "n = 100000\n",
    "tmax = 10000\n",
    "A = get_A(g)\n",
    "B = get_B(m, Ix, Iy, Iz)\n",
    "T = np.linspace(0, tmax, n)\n",
    "Svecs = odeint(ricatti_backwards_deriv, \n",
    "               np.zeros(144),\n",
    "               T,\n",
    "               args=(A, B, Q, R))\n",
    "S = np.reshape(Svecs[-1,:], (12,12))\n",
    "C = np.dot(np.linalg.inv(R), np.dot(B.T, S))"
   ]
  },
  {
   "cell_type": "code",
   "execution_count": 49,
   "metadata": {
    "collapsed": true
   },
   "outputs": [],
   "source": [
    "def linear_part_of_system(x, t, A, B, C):\n",
    "    u = - np.dot(C, x)\n",
    "    return np.dot(A, x) + np.dot(B, u)"
   ]
  },
  {
   "cell_type": "markdown",
   "metadata": {},
   "source": [
    "As a sanity check, we check if all of the eigenvalues of the controlled dynamics are zero, and they are, indicating stability."
   ]
  },
  {
   "cell_type": "code",
   "execution_count": 54,
   "metadata": {
    "collapsed": false
   },
   "outputs": [
    {
     "data": {
      "text/plain": [
       "array([ -1.19256917e+03+0.j        ,  -2.21359097e+00+2.21359852j,\n",
       "        -2.21359097e+00-2.21359852j,  -1.00000000e+00+0.j        ,\n",
       "        -1.00315969e+00+0.j        ,  -1.26092692e+01+0.j        ,\n",
       "        -1.19256917e+03+0.j        ,  -2.21359097e+00+2.21359852j,\n",
       "        -2.21359097e+00-2.21359852j,  -1.00000000e+00+0.j        ,\n",
       "        -1.00000070e+00+0.j        ,  -8.43273450e+02+0.j        ])"
      ]
     },
     "execution_count": 54,
     "metadata": {},
     "output_type": "execute_result"
    }
   ],
   "source": [
    "np.linalg.eigvals(A - np.dot(B, C))"
   ]
  },
  {
   "cell_type": "code",
   "execution_count": 70,
   "metadata": {
    "collapsed": true
   },
   "outputs": [],
   "source": [
    "x_disturbance = np.array([0.1, 0.0, \n",
    "                          0.0, 0.0, \n",
    "                          0.0, 0.0,\n",
    "                          0.0, 0.0,\n",
    "                          0.0, 0.0,\n",
    "                          0.0, 0.0])\n",
    "n = 10001\n",
    "tmax = 10\n",
    "T = np.linspace(0,tmax,n)\n",
    "X = odeint(linear_part_of_system,\n",
    "           x_disturbance,\n",
    "           T,\n",
    "           args=(A, B, C))"
   ]
  },
  {
   "cell_type": "code",
   "execution_count": 71,
   "metadata": {
    "collapsed": false
   },
   "outputs": [
    {
     "data": {
      "text/plain": [
       "[<matplotlib.lines.Line2D at 0x7f14c56599e8>]"
      ]
     },
     "execution_count": 71,
     "metadata": {},
     "output_type": "execute_result"
    },
    {
     "data": {
      "image/png": "[encoded data removed]",
      "text/plain": [
       "<matplotlib.figure.Figure at 0x7f14c56fab00>"
      ]
     },
     "metadata": {},
     "output_type": "display_data"
    }
   ],
   "source": [
    "plt.plot(T, X[:,0], color=\"red\", linestyle=\"solid\")\n",
    "plt.plot(T, X[:,2], color=\"blue\", linestyle=\"solid\")\n",
    "plt.plot(T, X[:,4], color=\"green\", linestyle=\"solid\")\n",
    "plt.plot(T, X[:,1], color=\"red\", linestyle=\"dotted\")\n",
    "plt.plot(T, X[:,3], color=\"blue\", linestyle=\"dotted\")\n",
    "plt.plot(T, X[:,5], color=\"green\", linestyle=\"dotted\")\n",
    "plt.plot(T, X[:,6], color=\"red\", linestyle=\"dashed\")\n",
    "plt.plot(T, X[:,8], color=\"blue\", linestyle=\"dashed\")\n",
    "plt.plot(T, X[:,10], color=\"green\", linestyle=\"dashed\")\n",
    "plt.plot(T, X[:,7], color=\"red\", linestyle=\"dashdot\")\n",
    "plt.plot(T, X[:,9], color=\"blue\", linestyle=\"dashdot\")\n",
    "plt.plot(T, X[:,11], color=\"green\", linestyle=\"dashdot\")"
   ]
  },
  {
   "cell_type": "code",
   "execution_count": 77,
   "metadata": {
    "collapsed": false
   },
   "outputs": [
    {
     "data": {
      "text/plain": [
       "[<matplotlib.lines.Line2D at 0x7f14c550c668>]"
      ]
     },
     "execution_count": 77,
     "metadata": {},
     "output_type": "execute_result"
    },
    {
     "data": {
      "image/png": "[encoded data removed]",
      "text/plain": [
       "<matplotlib.figure.Figure at 0x7f14c553f518>"
      ]
     },
     "metadata": {},
     "output_type": "display_data"
    }
   ],
   "source": [
    "istop = int(0.1*n)\n",
    "plt.plot(T[:istop], X[:istop,7], marker='x')"
   ]
  },
  {
   "cell_type": "markdown",
   "metadata": {},
   "source": [
    "So we now have a linear controller that can handle small disturbances.  Let's try it on our nonlinear system!"
   ]
  },
  {
   "cell_type": "markdown",
   "metadata": {},
   "source": [
    "\\begin{align}\n",
    "\\ddot{x} & =\\left( \\cos \\phi \\sin \\theta \\cos \\psi+\\sin \\phi \\sin \\psi\\right)\\frac{1}{m} U_1^*\n",
    "+g\\left( \\cos \\phi \\sin \\theta \\cos \\psi+\\sin \\phi \\sin \\psi\\right) \\cos \\phi \\cos \\theta \\\\\n",
    "\\ddot{y} & = \\left(\\cos\\phi\\sin\\theta\\sin\\psi - \\sin \\phi cos \\psi \\right) \\frac{1}{m} U_1^*\n",
    "+g\\left(\\cos\\phi\\sin\\theta\\sin\\psi - \\sin \\phi cos \\psi \\right)\\cos \\phi \\cos \\theta\\\\\n",
    "\\ddot{z} & =\\left( \\cos \\phi \\cos \\theta \\right) \\frac{1}{m} U_1^*\\\\\n",
    "\\ddot{\\phi} & = \\dot{\\theta}\\dot{\\psi} \\left(\\frac{I_y - I_z}{I_x}\\right)\n",
    "    - \\frac{J_r}{I_x} \\dot{\\theta} \\Omega + \\frac{l}{I_x} U_2 \\\\\n",
    "\\ddot{\\theta} & = \\dot{\\phi}\\dot{\\psi} \\left(\\frac{I_z - I_x}{I_y}\\right)\n",
    "    - \\frac{J_r}{I_y} \\dot{\\phi} \\Omega + \\frac{l}{I_y} U_3 \\\\\n",
    "\\ddot{\\psi} & = \\dot{\\phi}\\dot{\\theta} \\left( \\frac{I_x - I_y}{I_z} \\right) + \\frac{1}{I_z}U_4\n",
    "\\end{align}"
   ]
  },
  {
   "cell_type": "code",
   "execution_count": 82,
   "metadata": {
    "collapsed": false
   },
   "outputs": [
    {
     "data": {
      "text/plain": [
       "array([ 2.45      , -0.31622777, -0.        , -0.        ])"
      ]
     },
     "execution_count": 82,
     "metadata": {},
     "output_type": "execute_result"
    }
   ],
   "source": [
    "u = -np.dot(C,x_disturbance)\n",
    "u[0] += m*g\n",
    "u"
   ]
  },
  {
   "cell_type": "markdown",
   "metadata": {},
   "source": [
    "We need to find a way to get the omegas from the us, so that we can get $\\Omega$.  We assume a propeller lift-to-drag ratio of 10."
   ]
  },
  {
   "cell_type": "code",
   "execution_count": 83,
   "metadata": {
    "collapsed": true
   },
   "outputs": [],
   "source": [
    "# from paper\n",
    "b = 53.8e-6 # N s^2\n",
    "d = 1.1e-6 # N s^2"
   ]
  },
  {
   "cell_type": "code",
   "execution_count": 88,
   "metadata": {
    "collapsed": true
   },
   "outputs": [],
   "source": [
    "# from paper\n",
    "Jr = 1.1e-6 # N m s^2\n",
    "Ix = 8.1e-3 # N m s^2\n",
    "Iy = 8.1e-3 # N m s^2\n",
    "Iz = 14.2e-3 # N m s^2\n",
    "l = 0.47 #m"
   ]
  },
  {
   "cell_type": "code",
   "execution_count": 86,
   "metadata": {
    "collapsed": true
   },
   "outputs": [],
   "source": [
    "# extrapolated\n",
    "m = 0.5484 # kg"
   ]
  },
  {
   "cell_type": "code",
   "execution_count": 95,
   "metadata": {
    "collapsed": true
   },
   "outputs": [],
   "source": [
    "n = 100000\n",
    "tmax = 10000\n",
    "A = get_A(g)\n",
    "B = get_B(m, Ix, Iy, Iz)\n",
    "T = np.linspace(0, tmax, n)\n",
    "Svecs = odeint(ricatti_backwards_deriv, \n",
    "               np.zeros(144),\n",
    "               T,\n",
    "               args=(A, B, Q, R))\n",
    "S = np.reshape(Svecs[-1,:], (12,12))\n",
    "C = np.dot(np.linalg.inv(R), np.dot(B.T, S))"
   ]
  },
  {
   "cell_type": "code",
   "execution_count": 96,
   "metadata": {
    "collapsed": true
   },
   "outputs": [],
   "source": [
    "omega_squared_to_u = np.array([[b,b,b,b],\n",
    "                               [0,-b,0,b],\n",
    "                               [-b,0,b,0],\n",
    "                               [-d,d,-d,d]])"
   ]
  },
  {
   "cell_type": "code",
   "execution_count": 120,
   "metadata": {
    "collapsed": false
   },
   "outputs": [],
   "source": [
    "x_disturbance = np.array([0.001, 0.0, \n",
    "                          0.0, 0.0, \n",
    "                          0.0, 0.0,\n",
    "                          0.0, 0.0,\n",
    "                          0.0, 0.0,\n",
    "                          0.0, 0.0])\n",
    "n = 10001\n",
    "tmax = 1\n",
    "T = np.linspace(0,tmax,n)\n",
    "X = odeint(linear_control_nonlinear_system,\n",
    "           x_disturbance,\n",
    "           T,\n",
    "           args=(C, g, m, Ix, Iy, Iz, Jr, omega_squared_to_u))"
   ]
  },
  {
   "cell_type": "code",
   "execution_count": 121,
   "metadata": {
    "collapsed": false
   },
   "outputs": [
    {
     "data": {
      "text/plain": [
       "[<matplotlib.lines.Line2D at 0x7f14c5153eb8>]"
      ]
     },
     "execution_count": 121,
     "metadata": {},
     "output_type": "execute_result"
    },
    {
     "data": {
      "image/png": "[encoded data removed]",
      "text/plain": [
       "<matplotlib.figure.Figure at 0x7f14c52060b8>"
      ]
     },
     "metadata": {},
     "output_type": "display_data"
    }
   ],
   "source": [
    "plt.plot(T, X[:,0], color=\"red\", linestyle=\"solid\")\n",
    "plt.plot(T, X[:,2], color=\"blue\", linestyle=\"solid\")\n",
    "plt.plot(T, X[:,4], color=\"green\", linestyle=\"solid\")\n",
    "plt.plot(T, X[:,1], color=\"red\", linestyle=\"dotted\")\n",
    "plt.plot(T, X[:,3], color=\"blue\", linestyle=\"dotted\")\n",
    "plt.plot(T, X[:,5], color=\"green\", linestyle=\"dotted\")\n",
    "plt.plot(T, X[:,6], color=\"red\", linestyle=\"dashed\")\n",
    "plt.plot(T, X[:,8], color=\"blue\", linestyle=\"dashed\")\n",
    "plt.plot(T, X[:,10], color=\"green\", linestyle=\"dashed\")\n",
    "plt.plot(T, X[:,7], color=\"red\", linestyle=\"dashdot\")\n",
    "plt.plot(T, X[:,9], color=\"blue\", linestyle=\"dashdot\")\n",
    "plt.plot(T, X[:,11], color=\"green\", linestyle=\"dashdot\")"
   ]
  },
  {
   "cell_type": "code",
   "execution_count": 115,
   "metadata": {
    "collapsed": true
   },
   "outputs": [],
   "source": [
    "def linear_control_nonlinear_system(var, t, C, g, m, Ix, Iy, Iz, Jr, omega_squared_to_u):\n",
    "    # label things\n",
    "    x = var[0]\n",
    "    y = var[2]\n",
    "    z = var[4]\n",
    "    x_dot = var[1]\n",
    "    y_dot = var[3]\n",
    "    z_dot = var[5]\n",
    "    phi_dot = var[7]\n",
    "    theta_dot = var[9]\n",
    "    psi_dot = var[11]\n",
    "    \n",
    "    # calculate trig functions\n",
    "    cphi = np.cos(var[6])\n",
    "    sphi = np.sin(var[6])\n",
    "    ctheta = np.cos(var[8])\n",
    "    stheta = np.sin(var[8])\n",
    "    cpsi = np.cos(var[10])\n",
    "    spsi = np.sin(var[10])\n",
    "    \n",
    "    u = -np.dot(C, var)\n",
    "    u[0] += m*g/(cphi*ctheta)\n",
    "    os = np.linalg.solve(omega_squared_to_u, u)\n",
    "    Omega = np.sqrt(os[1]) + np.sqrt(os[3]) - np.sqrt(os[0]) -np.sqrt(os[2])\n",
    "\n",
    "    x_accel = (cphi*stheta*cpsi+sphi*spsi)*u[0]/m\n",
    "    y_accel = (cphi*stheta*spsi-sphi*cpsi)*u[0]/m\n",
    "    z_accel = -g+cphi*ctheta*u[0]/m\n",
    "    phi_accel = theta_dot*psi_dot*(Iy-Iz)/Ix-Jr/Ix*theta_dot*Omega+l/Ix*u[1]\n",
    "    theta_accel = phi_dot*psi_dot*(Iz-Ix)/Iy+Jr/Iy*phi_dot*Omega+l/Iy*u[2]\n",
    "    psi_accel = theta_dot*phi_dot*(Ix-Iy)/Iz+1/Iz*u[3]\n",
    "    \n",
    "    return np.array([x_dot,\n",
    "                     x_accel,\n",
    "                     y_dot,\n",
    "                     y_accel,\n",
    "                     z_dot,\n",
    "                     z_accel,\n",
    "                     phi_dot,\n",
    "                     phi_accel,\n",
    "                     theta_dot,\n",
    "                     theta_accel,\n",
    "                     psi_dot,\n",
    "                     psi_accel])"
   ]
  },
  {
   "cell_type": "markdown",
   "metadata": {},
   "source": [
    "As can be seen from the plot, the correction "
   ]
  },
  {
   "cell_type": "markdown",
   "metadata": {},
   "source": [
    "@misc{8847641,\n",
    "  abstract     = {This thesis work focused on the study of a quadrotor helicopter. The dynamic system modelling and the control algorithm evaluation were carried out. To test the results, a simulator and a real platform were developed. The Newton-Euler formalism was used to model the dynamic system. Particular attention was given to the group composed of the DC-motor, the gear box and the propeller which needed also the estimation of aerodynamic lift and torque to reach better accuracy. PID control algorithms were compared. The first stage tests were performed on a simulated model where it was easy to evaluate the performance with a mathematical approach. The second stage tests were carried out on the quadrotor platform to evaluate the behavior of the real system. A simulator based on Matlab-Simulink was developed. With this program it was possible to test the accuracy of the model and the robustness of the control algorithms. Furthermore a 3D graphic output and a joystick interface made easier the testability and the observability of the system. A quadrotor platform was developed. The electronics was composed of a Micro Control Unit (MCU) interfaced with several devices: the power supply, the receiving unit, the DC-motor power boards, the Inertial Measurement Unit (IMU), the SONAR and the IR modules. Thanks to these devices and the MCU software, both guided and autonomous flights were possible.},\n",
    "  author       = {Bresciani, Tammaso},\n",
    "  issn         = {0280-5316},\n",
    "  keyword      = {System Identification,PID Control,VTOL,UAV,Quadrotor},\n",
    "  language     = {eng},\n",
    "  note         = {Student Paper},\n",
    "  series       = {MSc Theses},\n",
    "  title        = {Modelling, Identification and Control of a Quadrotor Helicopter},\n",
    "  year         = {2008},\n",
    "}"
   ]
  },
  {
   "cell_type": "code",
   "execution_count": null,
   "metadata": {
    "collapsed": true
   },
   "outputs": [],
   "source": []
  }
 ],
 "metadata": {
  "anaconda-cloud": {},
  "kernelspec": {
   "display_name": "Python [default]",
   "language": "python",
   "name": "python3"
  },
  "language_info": {
   "codemirror_mode": {
    "name": "ipython",
    "version": 3
   },
   "file_extension": ".py",
   "mimetype": "text/x-python",
   "name": "python",
   "nbconvert_exporter": "python",
   "pygments_lexer": "ipython3",
   "version": "3.5.2"
  }
 },
 "nbformat": 4,
 "nbformat_minor": 1
}
